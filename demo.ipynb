{
 "cells": [
  {
   "cell_type": "markdown",
   "id": "9dc0e614",
   "metadata": {},
   "source": [
    "# import packages"
   ]
  },
  {
   "cell_type": "code",
   "execution_count": 1,
   "id": "15b821ef",
   "metadata": {},
   "outputs": [],
   "source": [
    "# Numerical Operations\n",
    "import math\n",
    "import numpy as np\n",
    "\n",
    "# For Progress Bar\n",
    "from tqdm import tqdm\n",
    "\n",
    "\n",
    "import torch \n",
    "import torch.nn as nn\n",
    "from torch.utils.data import Dataset, DataLoader, random_split\n",
    "from torch.utils.tensorboard import SummaryWriter\n",
    "import os\n"
   ]
  },
  {
   "cell_type": "markdown",
   "id": "cbe5d0c6",
   "metadata": {},
   "source": [
    "# Dataset"
   ]
  },
  {
   "cell_type": "markdown",
   "id": "813f52c8",
   "metadata": {},
   "source": [
    "### video data\n",
    "\n",
    "\n",
    "### audio data\n",
    "the whole audio is divided into shorted window frames and then converted into MFCCs."
   ]
  },
  {
   "cell_type": "code",
   "execution_count": 2,
   "id": "565e4b02",
   "metadata": {},
   "outputs": [],
   "source": [
    "class TinyM2NetDataset(Dataset):\n",
    "    '''\n",
    "    x: audio mfcc vector   44x13x1.\n",
    "    y: image vector        32x32x3\n",
    "    y: Targets:(cat,dog,duck,rabbit), if none, do prediction.\n",
    "    '''\n",
    "    def __init__(self, x,y,z=None):\n",
    "        if y is None:\n",
    "            self.z = z\n",
    "        else:\n",
    "            self.z = torch.FloatTensor(z)\n",
    "        self.x = torch.FloatTensor(x)\n",
    "        self.y = torch.FloatTensor(y)\n",
    "    def __getitem__(self, idx):\n",
    "        if self.z is None:\n",
    "            return self.x[idx],self.y[idx]\n",
    "        else:\n",
    "            return self.x[idx], self.y[idx], self.z[idx]\n",
    "    def __len__(self):\n",
    "        return len(self.x)"
   ]
  },
  {
   "cell_type": "markdown",
   "id": "dd967a56",
   "metadata": {},
   "source": [
    "# Neural Network Model"
   ]
  },
  {
   "cell_type": "code",
   "execution_count": 22,
   "id": "682fd92e",
   "metadata": {},
   "outputs": [],
   "source": [
    "class SeparableConv2d(nn.Module):\n",
    "    def __init__(self, in_channels, out_channels, kernel_size, bias=False):\n",
    "        super(SeparableConv2d, self).__init__()\n",
    "        self.depthwise = nn.Conv2d(in_channels,in_channels,kernel_size,groups=in_channels,padding=1)\n",
    "        self.pointwise = nn.Conv2d(in_channels,out_channels,kernel_size=kernel_size,padding=1)\n",
    "        self.outlayer = nn.ReLU()\n",
    "    def forward(self, x):\n",
    "        out = self.depthwise(x)\n",
    "        out = self.pointwise(out)\n",
    "        out = self.outlayer(out)\n",
    "        return out\n",
    "    \n",
    "class myConv2d(nn.Module):\n",
    "    def __init__(self,input_channels,output_channels,kernel_size,dense_dim,bn_dim):\n",
    "        super(myConv2d, self).__init__()\n",
    "        self.conv2d = nn.Sequential(\n",
    "            nn.Conv2d(input_channels,output_channels,kernel_size,padding=1),\n",
    "            nn.BatchNorm2d(bn_dim),\n",
    "            nn.ReLU()\n",
    "        )\n",
    "        self.spconv2d1 = nn.Sequential(\n",
    "            SeparableConv2d(output_channels,32,kernel_size),\n",
    "            nn.MaxPool2d((2,2)),\n",
    "            nn.Dropout(0.2)\n",
    "        )\n",
    "        self.spconv2d2 = nn.Sequential(\n",
    "            SeparableConv2d(32,output_channels,kernel_size),\n",
    "            nn.MaxPool2d((2,2)),\n",
    "            nn.Dropout(0.2)\n",
    "        )\n",
    "        self.outlayer = nn.Sequential(\n",
    "            nn.Linear(dense_dim,output_channels),\n",
    "            nn.ReLU(),\n",
    "            nn.Dropout(0.2)\n",
    "        )\n",
    "    def forward(self,x):\n",
    "#         print(x.shape)\n",
    "        out = self.conv2d(x)\n",
    "#         print(out.shape)\n",
    "        out = self.spconv2d1(out)\n",
    "#         print(out.shape)\n",
    "        out = self.spconv2d2(out)\n",
    "#         print(out.shape)\n",
    "        out = torch.flatten(out)\n",
    "#         print(out.shape)\n",
    "        out = self.outlayer(out)\n",
    "#         print(out.shape)\n",
    "        return out\n",
    "    \n",
    "class Tiny2Net(nn.Module):\n",
    "    def __init__(self, labels,batch_size):\n",
    "        super(Tiny2Net, self).__init__()\n",
    "#         self.args = args\n",
    "        self.videoNet = myConv2d(3,64,(3,3),4096*batch_size,64)  #(3,64,(3,3),4096,32)\n",
    "        self.audioNet = myConv2d(1,64,(3,3),2112*batch_size,64) #(1,64,(3,3),2112,44)\n",
    "        self.layer1 = nn.Sequential(\n",
    "            nn.Linear(128,64),\n",
    "            nn.ReLU(),\n",
    "            nn.Dropout(0.2)\n",
    "        )\n",
    "        self.layer2 = nn.Sequential(\n",
    "            nn.Linear(64,labels),\n",
    "            nn.Softmax(dim=0)\n",
    "        )\n",
    "    def forward(self,x,y):\n",
    "        \"\"\"\n",
    "        input x   MFCC Vector     size:  44x13x1\n",
    "        input y   Image Vector   size: 32x32x3\n",
    "        \"\"\"\n",
    "        x = self.audioNet(x)\n",
    "        y = self.videoNet(y)\n",
    "        z = torch.cat((x,y),0)\n",
    "        z = self.layer1(z)\n",
    "        z = self.layer2(z)\n",
    "        return z"
   ]
  },
  {
   "cell_type": "markdown",
   "id": "e03cd2ac",
   "metadata": {},
   "source": [
    "# Training Loop"
   ]
  },
  {
   "cell_type": "code",
   "execution_count": 45,
   "id": "171a884a",
   "metadata": {},
   "outputs": [],
   "source": [
    "def trainer(train_loader, valid_loader, model, config, device):\n",
    "\n",
    "    criterion = nn.MSELoss(reduction='mean')\n",
    "    \n",
    "#     optimizer = torch.optim.SGD(model.parameters(), lr=config['learning_rate'], momentum=0.9) \n",
    "    optimizer = torch.optim.AdamW(model.parameters(), lr=config['learning_rate'], weight_decay=1e-5, amsgrad=False)\n",
    "    scheduler = torch.optim.lr_scheduler.ExponentialLR(optimizer, gamma=0.975, last_epoch=-1, verbose=True)\n",
    "    writer = SummaryWriter() # Writer of tensoboard.\n",
    "\n",
    "    if not os.path.isdir('./models'):\n",
    "        os.mkdir('./models') \n",
    "        \n",
    "    n_epochs, best_loss, step, early_stop_count = config['n_epochs'], math.inf, 0, 0\n",
    "    \n",
    "    for epoch in range(n_epochs):\n",
    "        model.train() # Set the model to train mode.\n",
    "        loss_record = []\n",
    "\n",
    "        train_pbar = tqdm(train_loader, position=0, leave=True)\n",
    "        \n",
    "        for x,y,z in train_pbar:\n",
    "            optimizer.zero_grad()               # Set gradient to zero.\n",
    "            \n",
    "            x, y, z = x.to(device), y.to(device), z.to(device)  \n",
    "            pred = model(x,y)       \n",
    "            print(\"train: \",pred)\n",
    "            loss = criterion(pred, z)\n",
    "            loss.backward()                     # Compute gradient(backpropagation).\n",
    "            optimizer.step()                    # Update parameters.\n",
    "            step += 1\n",
    "            loss_record.append(loss.detach().item())\n",
    "            \n",
    "            # Display current epoch number and loss on tqdm progress bar.\n",
    "            train_pbar.set_description(f'Epoch [{epoch+1}/{n_epochs}]')\n",
    "            train_pbar.set_postfix({'loss': loss.detach().item()})\n",
    "        scheduler.step()\n",
    "        mean_train_loss = sum(loss_record)/len(loss_record)\n",
    "        writer.add_scalar('Loss/train', mean_train_loss, step)\n",
    "\n",
    "        model.eval() # Set the model to evaluation mode.\n",
    "        loss_record = []\n",
    "        for x, y, z in valid_loader:\n",
    "            x, y, z = x.to(device), y.to(device), z.to(device)  \n",
    "            with torch.no_grad():\n",
    "                pred = model(x,y)\n",
    "                print(\"vaild: \",pred)\n",
    "                loss = criterion(pred, z)\n",
    "\n",
    "            loss_record.append(loss.item())\n",
    "            \n",
    "        mean_valid_loss = sum(loss_record)/len(loss_record)\n",
    "        print(f'Epoch [{epoch+1}/{n_epochs}]: Train loss: {mean_train_loss:.4f}, Valid loss: {mean_valid_loss:.4f}')\n",
    "        writer.add_scalar('Loss/valid', mean_valid_loss, step)\n",
    "\n",
    "        if mean_valid_loss < best_loss:\n",
    "            best_loss = mean_valid_loss\n",
    "            torch.save(model.state_dict(), config['save_path']) # Save the best model\n",
    "            print('Saving model with loss {:.3f}...'.format(best_loss))\n",
    "            early_stop_count = 0\n",
    "        else: \n",
    "            early_stop_count += 1\n",
    "\n",
    "        if early_stop_count >= config['early_stop']:\n",
    "            print('\\nModel is not improving, so we halt the training session.')\n",
    "            return"
   ]
  },
  {
   "cell_type": "markdown",
   "id": "855a1034",
   "metadata": {},
   "source": [
    "# Configurations"
   ]
  },
  {
   "cell_type": "code",
   "execution_count": 46,
   "id": "e0d7e03e",
   "metadata": {},
   "outputs": [],
   "source": [
    "device = 'cuda' if torch.cuda.is_available() else 'cpu'\n",
    "config = {\n",
    "    'seed': 42,   \n",
    "    'valid_ratio': 0.5,\n",
    "    'n_epochs': 10,        \n",
    "    'batch_size': 3, \n",
    "    'learning_rate': 5e-3,              \n",
    "    'early_stop': 3,    \n",
    "    'save_path': './models/model.ckpt',  # model will be saved here.\n",
    "    'data_path': './data/dog_train.npz'\n",
    "}"
   ]
  },
  {
   "cell_type": "markdown",
   "id": "9173f153",
   "metadata": {},
   "source": [
    "# Dataloader"
   ]
  },
  {
   "cell_type": "code",
   "execution_count": 47,
   "id": "2b85cc50",
   "metadata": {},
   "outputs": [],
   "source": [
    "def same_seed(seed): \n",
    "    '''Fixes random number generator seeds for reproducibility.'''\n",
    "    torch.backends.cudnn.deterministic = True\n",
    "    torch.backends.cudnn.benchmark = False\n",
    "    np.random.seed(seed)\n",
    "    torch.manual_seed(seed)\n",
    "    if torch.cuda.is_available():\n",
    "        torch.cuda.manual_seed_all(seed)\n",
    "\n",
    "def train_valid_split(x,y,z, valid_ratio, seed):\n",
    "    '''Split provided training data into training set and validation set'''\n",
    "    valid_set_size = int(valid_ratio * len(x)) \n",
    "    train_set_size = len(x) - valid_set_size\n",
    "    data_index = np.arange(len(x))\n",
    "    train_index, valid_index = random_split(data_index, [train_set_size, valid_set_size], generator=torch.Generator().manual_seed(seed))\n",
    "    train_index, valid_index = np.array(train_index), np.array(valid_index)\n",
    "#     print(train_index,valid_index)\n",
    "    return x[train_index],y[train_index],z[train_index],x[valid_index],y[valid_index],z[valid_index]\n",
    "\n",
    "def predict(test_loader, model, device):\n",
    "    model.eval() # Set your model to evaluation mode.\n",
    "    preds = []\n",
    "    for x,y in tqdm(test_loader):\n",
    "        x,y = x.to(device),y.to(device)                        \n",
    "        with torch.no_grad():                   \n",
    "            pred = model(x,y)                     \n",
    "            preds.append(pred.detach().cpu())   \n",
    "    preds = torch.cat(preds, dim=0).numpy()  \n",
    "    return preds"
   ]
  },
  {
   "cell_type": "code",
   "execution_count": 48,
   "id": "83df0367",
   "metadata": {},
   "outputs": [
    {
     "name": "stdout",
     "output_type": "stream",
     "text": [
      "(30, 1, 44, 13)\n",
      "(30, 3, 32, 32)\n",
      "(30, 3)\n",
      "30\n"
     ]
    }
   ],
   "source": [
    "#set seed\n",
    "same_seed(config['seed'])\n",
    "# load data\n",
    "data = np.load(config['data_path'])\n",
    "x = data[\"x\"]\n",
    "y = data[\"y\"]\n",
    "z = data[\"z\"]\n",
    "# if len(x)<4:\n",
    "#     # for test, there is only 1 data in data.npz, so add one\n",
    "#     x = np.concatenate((x, np.array([x[0]])))\n",
    "#     y = np.concatenate((y, np.array([y[0]])))\n",
    "#     z = np.concatenate((z, np.array([z[0]])))\n",
    "#     x = np.concatenate((x, np.array([x[0]])))\n",
    "#     y = np.concatenate((y, np.array([y[0]])))\n",
    "#     z = np.concatenate((z, np.array([z[0]])))\n",
    "#     x = np.concatenate((x, np.array([x[0]])))\n",
    "#     y = np.concatenate((y, np.array([y[0]])))\n",
    "#     z = np.concatenate((z, np.array([z[0]])))\n",
    "print(x.shape)\n",
    "print(y.shape)\n",
    "print(z.shape)\n",
    "print(len(x))"
   ]
  },
  {
   "cell_type": "code",
   "execution_count": 49,
   "id": "f7b0b71f",
   "metadata": {},
   "outputs": [
    {
     "name": "stdout",
     "output_type": "stream",
     "text": [
      "[0. 1. 0.]\n"
     ]
    }
   ],
   "source": [
    "print(z[0])"
   ]
  },
  {
   "cell_type": "code",
   "execution_count": 50,
   "id": "5129ad89",
   "metadata": {},
   "outputs": [
    {
     "name": "stdout",
     "output_type": "stream",
     "text": [
      "15\n",
      "15\n"
     ]
    }
   ],
   "source": [
    "train_x,train_y,train_z, valid_x,valid_y,valid_z = train_valid_split(x,y,z,config['valid_ratio'], config['seed'])\n",
    "print(len(train_x))\n",
    "print(len(valid_x))"
   ]
  },
  {
   "cell_type": "code",
   "execution_count": 51,
   "id": "3f4afd8a",
   "metadata": {},
   "outputs": [],
   "source": [
    "\n",
    "train_dataset, valid_dataset = TinyM2NetDataset(train_x,train_y,train_z),  TinyM2NetDataset(valid_x,valid_y,valid_z)\n",
    "\n",
    "# Pytorch data loader loads pytorch dataset into batches.\n",
    "train_loader = DataLoader(train_dataset, batch_size=config['batch_size'], shuffle=True, pin_memory=True)\n",
    "valid_loader = DataLoader(valid_dataset, batch_size=config['batch_size'], shuffle=True, pin_memory=True)\n",
    "# test_loader = DataLoader(test_dataset, batch_size=config['batch_size'], shuffle=False, pin_memory=True)"
   ]
  },
  {
   "cell_type": "markdown",
   "id": "1881098f",
   "metadata": {},
   "source": [
    "# Start training"
   ]
  },
  {
   "cell_type": "code",
   "execution_count": 52,
   "id": "df5fb149",
   "metadata": {},
   "outputs": [
    {
     "name": "stdout",
     "output_type": "stream",
     "text": [
      "{'seed': 42, 'valid_ratio': 0.5, 'n_epochs': 10, 'batch_size': 3, 'learning_rate': 0.005, 'early_stop': 3, 'save_path': './models/model.ckpt', 'data_path': './data/dog_train.npz'}\n",
      "cuda\n"
     ]
    }
   ],
   "source": [
    "print(config)\n",
    "print(device)"
   ]
  },
  {
   "cell_type": "code",
   "execution_count": 53,
   "id": "8d50b0c3",
   "metadata": {},
   "outputs": [],
   "source": [
    "model = Tiny2Net(z.shape[1],config[\"batch_size\"]).to(device)"
   ]
  },
  {
   "cell_type": "code",
   "execution_count": 54,
   "id": "3b5a1e96",
   "metadata": {},
   "outputs": [
    {
     "name": "stderr",
     "output_type": "stream",
     "text": [
      "Epoch [1/10]: 100%|████████████████████████████████████████████████████████████████| 5/5 [00:00<00:00, 54.38it/s, loss=0]\n",
      "Epoch [2/10]:   0%|                                                                        | 0/5 [00:00<?, ?it/s, loss=0]"
     ]
    },
    {
     "name": "stdout",
     "output_type": "stream",
     "text": [
      "Adjusting learning rate of group 0 to 5.0000e-03.\n",
      "train:  tensor([0.3261, 0.3461, 0.3278], device='cuda:0', grad_fn=<SoftmaxBackward0>)\n",
      "train:  tensor([0.0769, 0.9107, 0.0125], device='cuda:0', grad_fn=<SoftmaxBackward0>)\n",
      "train:  tensor([7.3856e-11, 1.0000e+00, 3.4147e-14], device='cuda:0',\n",
      "       grad_fn=<SoftmaxBackward0>)\n",
      "train:  tensor([5.8947e-30, 1.0000e+00, 4.1053e-35], device='cuda:0',\n",
      "       grad_fn=<SoftmaxBackward0>)\n",
      "train:  tensor([0.0000e+00, 1.0000e+00, 1.6816e-44], device='cuda:0',\n",
      "       grad_fn=<SoftmaxBackward0>)\n",
      "Adjusting learning rate of group 0 to 4.8750e-03.\n",
      "vaild:  tensor([0., 1., 0.], device='cuda:0')\n",
      "vaild:  tensor([0., 1., 0.], device='cuda:0')\n",
      "vaild:  tensor([0., 1., 0.], device='cuda:0')\n",
      "vaild:  tensor([0., 1., 0.], device='cuda:0')\n",
      "vaild:  tensor([0., 1., 0.], device='cuda:0')\n",
      "Epoch [1/10]: Train loss: 0.0437, Valid loss: 0.0000\n",
      "Saving model with loss 0.000...\n",
      "train:  tensor([0., 1., 0.], device='cuda:0', grad_fn=<SoftmaxBackward0>)\n",
      "train:  tensor([0., 1., 0.], device='cuda:0', grad_fn=<SoftmaxBackward0>)\n",
      "train:  tensor([0., 1., 0.], device='cuda:0', grad_fn=<SoftmaxBackward0>)\n",
      "train:  tensor([0., 1., 0.], device='cuda:0', grad_fn=<SoftmaxBackward0>)\n"
     ]
    },
    {
     "name": "stderr",
     "output_type": "stream",
     "text": [
      "Epoch [2/10]: 100%|████████████████████████████████████████████████████████████████| 5/5 [00:00<00:00, 67.04it/s, loss=0]\n",
      "Epoch [3/10]: 100%|████████████████████████████████████████████████████████████████| 5/5 [00:00<00:00, 67.75it/s, loss=0]\n",
      "Epoch [4/10]:   0%|                                                                        | 0/5 [00:00<?, ?it/s, loss=0]"
     ]
    },
    {
     "name": "stdout",
     "output_type": "stream",
     "text": [
      "train:  tensor([0., 1., 0.], device='cuda:0', grad_fn=<SoftmaxBackward0>)\n",
      "Adjusting learning rate of group 0 to 4.7531e-03.\n",
      "vaild:  tensor([0., 1., 0.], device='cuda:0')\n",
      "vaild:  tensor([0., 1., 0.], device='cuda:0')\n",
      "vaild:  tensor([0., 1., 0.], device='cuda:0')\n",
      "vaild:  tensor([0., 1., 0.], device='cuda:0')\n",
      "vaild:  tensor([0., 1., 0.], device='cuda:0')\n",
      "Epoch [2/10]: Train loss: 0.0000, Valid loss: 0.0000\n",
      "train:  tensor([0., 1., 0.], device='cuda:0', grad_fn=<SoftmaxBackward0>)\n",
      "train:  tensor([0., 1., 0.], device='cuda:0', grad_fn=<SoftmaxBackward0>)\n",
      "train:  tensor([0., 1., 0.], device='cuda:0', grad_fn=<SoftmaxBackward0>)\n",
      "train:  tensor([0., 1., 0.], device='cuda:0', grad_fn=<SoftmaxBackward0>)\n",
      "train:  tensor([0., 1., 0.], device='cuda:0', grad_fn=<SoftmaxBackward0>)\n",
      "Adjusting learning rate of group 0 to 4.6343e-03.\n",
      "vaild:  tensor([0., 1., 0.], device='cuda:0')\n",
      "vaild:  tensor([0., 1., 0.], device='cuda:0')\n",
      "vaild:  tensor([0., 1., 0.], device='cuda:0')\n",
      "vaild:  tensor([0., 1., 0.], device='cuda:0')\n",
      "vaild:  tensor([0., 1., 0.], device='cuda:0')\n",
      "Epoch [3/10]: Train loss: 0.0000, Valid loss: 0.0000\n",
      "train:  tensor([0., 1., 0.], device='cuda:0', grad_fn=<SoftmaxBackward0>)\n",
      "train:  tensor([0., 1., 0.], device='cuda:0', grad_fn=<SoftmaxBackward0>)\n",
      "train:  tensor([0., 1., 0.], device='cuda:0', grad_fn=<SoftmaxBackward0>)\n",
      "train:  tensor([0., 1., 0.], device='cuda:0', grad_fn=<SoftmaxBackward0>)\n"
     ]
    },
    {
     "name": "stderr",
     "output_type": "stream",
     "text": [
      "Epoch [4/10]: 100%|████████████████████████████████████████████████████████████████| 5/5 [00:00<00:00, 68.68it/s, loss=0]"
     ]
    },
    {
     "name": "stdout",
     "output_type": "stream",
     "text": [
      "train:  tensor([0., 1., 0.], device='cuda:0', grad_fn=<SoftmaxBackward0>)\n",
      "Adjusting learning rate of group 0 to 4.5184e-03.\n",
      "vaild:  tensor([0., 1., 0.], device='cuda:0')\n",
      "vaild:  tensor([0., 1., 0.], device='cuda:0')\n",
      "vaild:  tensor([0., 1., 0.], device='cuda:0')\n",
      "vaild:  tensor([0., 1., 0.], device='cuda:0')\n",
      "vaild:  tensor([0., 1., 0.], device='cuda:0')\n",
      "Epoch [4/10]: Train loss: 0.0000, Valid loss: 0.0000\n",
      "\n",
      "Model is not improving, so we halt the training session.\n"
     ]
    },
    {
     "name": "stderr",
     "output_type": "stream",
     "text": [
      "\n"
     ]
    }
   ],
   "source": [
    "trainer(train_loader, valid_loader, model, config, device)"
   ]
  },
  {
   "cell_type": "code",
   "execution_count": 44,
   "id": "00d2280e",
   "metadata": {},
   "outputs": [],
   "source": [
    "%reload_ext tensorboard\n",
    "%tensorboard --logdir=./runs/"
   ]
  },
  {
   "cell_type": "code",
   "execution_count": null,
   "id": "963fbd63",
   "metadata": {},
   "outputs": [],
   "source": []
  }
 ],
 "metadata": {
  "kernelspec": {
   "display_name": "Python 3",
   "language": "python",
   "name": "python3"
  },
  "language_info": {
   "codemirror_mode": {
    "name": "ipython",
    "version": 3
   },
   "file_extension": ".py",
   "mimetype": "text/x-python",
   "name": "python",
   "nbconvert_exporter": "python",
   "pygments_lexer": "ipython3",
   "version": "3.8.8"
  }
 },
 "nbformat": 4,
 "nbformat_minor": 5
}
