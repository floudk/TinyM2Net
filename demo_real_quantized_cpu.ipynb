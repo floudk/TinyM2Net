{
 "cells": [
  {
   "cell_type": "markdown",
   "id": "944cc0a8",
   "metadata": {},
   "source": [
    "## 实时量化推理demo\n",
    "-------"
   ]
  },
  {
   "cell_type": "code",
   "execution_count": null,
   "id": "89d9e363",
   "metadata": {},
   "outputs": [],
   "source": []
  },
  {
   "cell_type": "code",
   "execution_count": 1,
   "id": "a9cd7d7c",
   "metadata": {},
   "outputs": [],
   "source": [
    "import torch \n",
    "import torch.nn as nn\n",
    "from torch.utils.data import Dataset, DataLoader, random_split\n",
    "import time\n",
    "import numpy as np\n",
    "import random"
   ]
  },
  {
   "cell_type": "code",
   "execution_count": 2,
   "id": "db3beed6",
   "metadata": {},
   "outputs": [],
   "source": [
    "device =  'cpu'\n",
    "config = {\n",
    "    'seed': 42,   \n",
    "    'valid_ratio': 0.3,\n",
    "    'n_epochs': 10,        \n",
    "    'batch_size': 64, \n",
    "    'learning_rate': 5e-3,              \n",
    "    'early_stop': 3,    \n",
    "    'save_path': './models/model.ckpt',  # model will be saved here.\n",
    "    'data_path': './DataSet/npz/',\n",
    "    'data_file': [\"cat_eval\",\"cat_train\",\n",
    "                  \"dog_eval\", \"dog_train\",\n",
    "                  \"other_eval\",\"other_train\"],\n",
    "    'backend':'fbgemm',\n",
    "}\n",
    "\n",
    "ENV = 'REAL'"
   ]
  },
  {
   "cell_type": "markdown",
   "id": "effa41ea",
   "metadata": {},
   "source": [
    "### 加载模型"
   ]
  },
  {
   "cell_type": "code",
   "execution_count": 3,
   "id": "aae65bdb",
   "metadata": {},
   "outputs": [],
   "source": [
    "class SeparableConv2d(nn.Module):\n",
    "    def __init__(self, in_channels, out_channels, kernel_size, bias=False):\n",
    "        super(SeparableConv2d, self).__init__()\n",
    "        self.depthwise = nn.Conv2d(in_channels,in_channels,kernel_size,groups=in_channels,padding=1)\n",
    "        self.pointwise = nn.Conv2d(in_channels,out_channels,kernel_size=kernel_size,padding=1)\n",
    "        self.outlayer = nn.ReLU()\n",
    "    def forward(self, x):\n",
    "        out = self.depthwise(x)\n",
    "        out = self.pointwise(out)\n",
    "        out = self.outlayer(out)\n",
    "        return out\n",
    "    \n",
    "class myConv2d(nn.Module):\n",
    "    def __init__(self,input_channels,output_channels,kernel_size,dense_dim,bn_dim):\n",
    "        super(myConv2d, self).__init__()\n",
    "        self.conv2d = nn.Sequential(\n",
    "            nn.Conv2d(input_channels,output_channels,kernel_size,padding=1),\n",
    "            nn.BatchNorm2d(bn_dim),\n",
    "            nn.ReLU()\n",
    "        )\n",
    "        self.spconv2d1 = nn.Sequential(\n",
    "            SeparableConv2d(output_channels,32,kernel_size),\n",
    "            nn.MaxPool2d((2,2)),\n",
    "            nn.Dropout(0.2)\n",
    "        )\n",
    "        self.spconv2d2 = nn.Sequential(\n",
    "            SeparableConv2d(32,output_channels,kernel_size),\n",
    "            nn.MaxPool2d((2,2)),\n",
    "            nn.Dropout(0.2)\n",
    "        )\n",
    "        self.outlayer = nn.Sequential(\n",
    "            nn.Linear(dense_dim,output_channels),\n",
    "            nn.ReLU(),\n",
    "            nn.Dropout(0.2)\n",
    "        )\n",
    "    def forward(self,x):\n",
    "#         print(x.shape)\n",
    "        out = self.conv2d(x)\n",
    "#         print(out.shape)\n",
    "        out = self.spconv2d1(out)\n",
    "#         print(out.shape)\n",
    "        out = self.spconv2d2(out)\n",
    "#         print(out.shape)\n",
    "        out = torch.flatten(out,start_dim=1)\n",
    "#         print(out.shape)\n",
    "        out = self.outlayer(out)\n",
    "#         print(out.shape)\n",
    "        return out\n",
    "    \n",
    "class Tiny2Net(nn.Module):\n",
    "    def __init__(self, labels):\n",
    "        super(Tiny2Net, self).__init__()\n",
    "#         self.args = args\n",
    "        self.videoNet = myConv2d(3,64,(3,3),4096,64)  #(3,64,(3,3),4096,32)\n",
    "        self.audioNet = myConv2d(1,64,(3,3),2112,64) #(1,64,(3,3),2112,44)\n",
    "        self.layer1 = nn.Sequential(\n",
    "            nn.Linear(128,64),\n",
    "            nn.ReLU(),\n",
    "            nn.Dropout(0.2)\n",
    "        )\n",
    "        self.layer2 = nn.Sequential(\n",
    "            nn.Linear(64,labels),\n",
    "            nn.Softmax(dim=0)\n",
    "        )\n",
    "    def forward(self,x,y):\n",
    "        \"\"\"\n",
    "        input x   MFCC Vector     size:  44x13x1\n",
    "        input y   Image Vector   size: 32x32x3\n",
    "        \"\"\"\n",
    "        x = self.audioNet(x)\n",
    "        y = self.videoNet(y)\n",
    "        z = torch.cat((x,y),1)\n",
    "#         print(\"z:\",z.shape)\n",
    "        z = self.layer1(z)\n",
    "#         print(\"z:\",z.shape)\n",
    "        z = self.layer2(z)\n",
    "        return z"
   ]
  },
  {
   "cell_type": "code",
   "execution_count": 4,
   "id": "c9646fee",
   "metadata": {},
   "outputs": [],
   "source": [
    "def same_seed(seed): \n",
    "    '''Fixes random number generator seeds for reproducibility.'''\n",
    "    torch.backends.cudnn.deterministic = True\n",
    "    torch.backends.cudnn.benchmark = False\n",
    "    np.random.seed(seed)\n",
    "    torch.manual_seed(seed)\n",
    "    if torch.cuda.is_available():\n",
    "        torch.cuda.manual_seed_all(seed)\n",
    "same_seed(config['seed'])"
   ]
  },
  {
   "cell_type": "code",
   "execution_count": 5,
   "id": "8651b2e6",
   "metadata": {},
   "outputs": [],
   "source": [
    "model_fp32 = Tiny2Net(3)\n",
    "state_dict = torch.load(r'./models/seed_42_1205_073217_entropy_standardnoise_.pth')\n",
    "model_fp32.load_state_dict(state_dict)\n",
    "\n",
    "\n",
    "model_int8 = torch.quantization.quantize_dynamic(\n",
    "    model_fp32,  # the original model\n",
    "    {torch.nn.Linear},  # a set of layers to dynamically quantize\n",
    "    dtype=torch.qint8)  # the target dtype for quantized weights\n"
   ]
  },
  {
   "cell_type": "markdown",
   "id": "d150a489",
   "metadata": {},
   "source": [
    "### 加载数据"
   ]
  },
  {
   "cell_type": "code",
   "execution_count": 6,
   "id": "f157d202",
   "metadata": {},
   "outputs": [],
   "source": [
    "ENV = 'DEBUG' #非实时输入状态下进行测试\n",
    "# from CameraAudioRead.AudioRead import read_audio\n",
    "# from CameraAudioRead.CameraRead import read_camera"
   ]
  },
  {
   "cell_type": "code",
   "execution_count": 7,
   "id": "963d3681",
   "metadata": {},
   "outputs": [],
   "source": [
    "def loadData(path,dataList):\n",
    "    def getName(base,file):\n",
    "        return base+file+'.npz'\n",
    "    dataset={}\n",
    "    for item in dataList:\n",
    "        dataset[item]=np.load(getName(path,item))\n",
    "    return dataset\n",
    "\n",
    "_x = None\n",
    "_y = None\n",
    "_z = None\n",
    "\n",
    "if ENV == 'DEBUG':\n",
    "    dataset = loadData(config['data_path'],config['data_file'])\n",
    "    for k,v in dataset.items():\n",
    "        if _x is None:\n",
    "            _x = v[\"x\"]\n",
    "            _y = v[\"y\"]\n",
    "            _z = v[\"z\"]\n",
    "        else:\n",
    "            _x = np.concatenate((_x, v[\"x\"]), axis=0)\n",
    "            _y = np.concatenate((_y, v[\"y\"]), axis=0)\n",
    "            _z = np.concatenate((_z, v[\"z\"]), axis=0)"
   ]
  },
  {
   "cell_type": "code",
   "execution_count": 8,
   "id": "5244be49",
   "metadata": {},
   "outputs": [],
   "source": [
    "def load_data_item():\n",
    "    if ENV =='DEBUG':\n",
    "        idx = random.randint(0, _x.shape[0])\n",
    "        return torch.from_numpy(_x[idx]).unsqueeze(0),torch.from_numpy(_y[idx]).unsqueeze(0),torch.from_numpy(_z[idx]).unsqueeze(0)\n",
    "#     else:\n",
    "#         camera_frames = read_camera(resize_h=32, resize_w=32, frames_number=1)\n",
    "#         audio_frames = read_audio(record_second=1,frames_number=1)\n",
    "#         y = torch.from_numpy(camera_frames[0]).unsqueeze(0)\n",
    "#         x = torch.from_numpy(audio_frames[0]).unsqueeze(0)\n",
    "#         reutrn x,y,None"
   ]
  },
  {
   "cell_type": "markdown",
   "id": "eabccd6c",
   "metadata": {},
   "source": [
    "##  运行"
   ]
  },
  {
   "cell_type": "code",
   "execution_count": 9,
   "id": "18dfab68",
   "metadata": {},
   "outputs": [
    {
     "name": "stdout",
     "output_type": "stream",
     "text": [
      "torch.Size([1, 1, 44, 13])\n",
      "torch.Size([1, 3, 32, 32])\n",
      "Quantized:the prediction is 0 ,corresponding animal is cat\n",
      "1\n",
      "torch.Size([1, 1, 44, 13])\n",
      "torch.Size([1, 3, 32, 32])\n",
      "Quantized:the prediction is 0 ,corresponding animal is cat\n",
      "0\n"
     ]
    }
   ],
   "source": [
    "run_time = 1\n",
    "\n",
    "criterion = nn.MSELoss(reduction='mean')\n",
    "criterion = nn.CrossEntropyLoss()\n",
    "animal_dict = {0:\"cat\",1:\"dog\",2:\"other animal\"}\n",
    "while(run_time>=0):\n",
    "    x,y,z=load_data_item()\n",
    "    x=x.to(device)\n",
    "    y=y.to(device)\n",
    "    print(x.shape)\n",
    "    print(y.shape)\n",
    "    with torch.no_grad():\n",
    "        pred_quantized = model_int8(x.float(), y.float())\n",
    "        \n",
    "        target_list_quantized = pred_quantized.cpu().numpy().tolist()[0]\n",
    "        target_quantized = target_list_quantized.index(max(target_list_quantized))\n",
    "        print(\"Quantized:the prediction is {} ,corresponding animal is {}\".format(target_quantized,animal_dict[target_quantized]))\n",
    "    print(run_time)\n",
    "    run_time=run_time-1"
   ]
  },
  {
   "cell_type": "code",
   "execution_count": null,
   "id": "94216b13",
   "metadata": {},
   "outputs": [],
   "source": []
  }
 ],
 "metadata": {
  "kernelspec": {
   "display_name": "Python 3",
   "language": "python",
   "name": "python3"
  },
  "language_info": {
   "codemirror_mode": {
    "name": "ipython",
    "version": 3
   },
   "file_extension": ".py",
   "mimetype": "text/x-python",
   "name": "python",
   "nbconvert_exporter": "python",
   "pygments_lexer": "ipython3",
   "version": "3.8.8"
  }
 },
 "nbformat": 4,
 "nbformat_minor": 5
}
