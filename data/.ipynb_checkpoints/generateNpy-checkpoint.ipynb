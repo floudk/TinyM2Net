{
 "cells": [
  {
   "cell_type": "code",
   "execution_count": 1,
   "id": "afbc551a",
   "metadata": {},
   "outputs": [],
   "source": [
    "from moviepy.editor import *\n",
    "import os\n",
    "import librosa\n",
    "import cv2\n",
    "import numpy as np\n",
    "\n",
    "AUDIO_LEN=6578\n",
    "\n",
    "VIDEO_DIR = r'./raw_data/video/'\n",
    "AUDIO_DIR = r'./raw_data/audio/'\n",
    "FRAME_DIR = r'./raw_data/frame/'\n",
    "\n",
    "\n",
    "CAT=0\n",
    "DOG=1\n",
    "DUCK=2\n",
    "RABBIT=3\n",
    "ANIMALS = ['cat','dog','duck','rabbit']"
   ]
  },
  {
   "cell_type": "markdown",
   "id": "d87f942a",
   "metadata": {},
   "source": [
    "## load video to generate audio and key frame"
   ]
  },
  {
   "cell_type": "code",
   "execution_count": 2,
   "id": "431ca8b0",
   "metadata": {},
   "outputs": [],
   "source": [
    "if not os.path.isdir(AUDIO_DIR):\n",
    "    os.mkdir(AUDIO_DIR)\n",
    "if not os.path.isdir(FRAME_DIR):\n",
    "    os.mkdir(FRAME_DIR)\n",
    "mfccs = []\n",
    "frames = []\n",
    "labels = [] #format: (cat,dog,duck,rabbit)"
   ]
  },
  {
   "cell_type": "code",
   "execution_count": 3,
   "id": "0a9c2ccf",
   "metadata": {},
   "outputs": [
    {
     "name": "stderr",
     "output_type": "stream",
     "text": [
      "                                                                                                         "
     ]
    },
    {
     "name": "stdout",
     "output_type": "stream",
     "text": [
      "MoviePy - Writing audio in ./raw_data/audio/dog.wav\n",
      "MoviePy - Done.\n"
     ]
    },
    {
     "name": "stderr",
     "output_type": "stream",
     "text": [
      "\r"
     ]
    }
   ],
   "source": [
    "videos = os.listdir(VIDEO_DIR)\n",
    "for video in videos:\n",
    "    name = video.split('.')[0]\n",
    "    \n",
    "    \n",
    "    #label\n",
    "    \n",
    "    label = np.zeros(len(ANIMALS))\n",
    "    for index,animal in enumerate(ANIMALS):\n",
    "        if animal in name.lower():\n",
    "            label[index] = 1\n",
    "    labels.append(label)\n",
    "    \n",
    "    videoclip = VideoFileClip(VIDEO_DIR+video)\n",
    "    #frame\n",
    "    videoclip.save_frame(FRAME_DIR+name+'.jpg', t=1)\n",
    "    im = cv2.imread(FRAME_DIR+name+'.jpg')\n",
    "    im = cv2.resize(im, (32, 32))\n",
    "    frames.append(np.transpose(im, (2, 0, 1))) #resize img to 32x32\n",
    "    \n",
    "    #audio\n",
    "    audioclip =videoclip.audio\n",
    "    audioclip.write_audiofile(AUDIO_DIR+name+'.wav')\n",
    "    x, sr = librosa.load(AUDIO_DIR+name+'.wav')\n",
    "    x=x[int(22050-AUDIO_LEN/2):int(22050+AUDIO_LEN/2)] \n",
    "    mfcc = librosa.feature.mfcc(x, sr=sr,n_mfcc=44) # MFCC feature extraction from audios\n",
    "    mfccs.append(np.expand_dims(mfcc, axis=0))"
   ]
  },
  {
   "cell_type": "code",
   "execution_count": 4,
   "id": "29aee1b9",
   "metadata": {},
   "outputs": [
    {
     "name": "stdout",
     "output_type": "stream",
     "text": [
      "(1, 44, 13)\n",
      "(3, 32, 32)\n",
      "(4,)\n"
     ]
    }
   ],
   "source": [
    "print(mfccs[0].shape)\n",
    "print(frames[0].shape)\n",
    "print(labels[0].shape)"
   ]
  },
  {
   "cell_type": "markdown",
   "id": "f17f6f4e",
   "metadata": {},
   "source": [
    "## save data to npy file"
   ]
  },
  {
   "cell_type": "code",
   "execution_count": 5,
   "id": "bebe3d75",
   "metadata": {},
   "outputs": [],
   "source": [
    "np.savez('data', x=mfccs, y=frames, z=labels)"
   ]
  },
  {
   "cell_type": "code",
   "execution_count": 6,
   "id": "c2c42812",
   "metadata": {},
   "outputs": [],
   "source": [
    "# while use npz like this\n",
    "\n",
    "\n",
    "# test = np.load('./data.npz',allow_pickle=True)\n",
    "# x=test[\"x\"] # audio mfcc vector\n",
    "# y=test[\"y\"] # image vector\n",
    "# z=test[\"z\"] # label (cat,dog,duck,rabbit)"
   ]
  },
  {
   "cell_type": "code",
   "execution_count": null,
   "id": "781c4cec",
   "metadata": {},
   "outputs": [],
   "source": []
  },
  {
   "cell_type": "code",
   "execution_count": null,
   "id": "49c5de75",
   "metadata": {},
   "outputs": [],
   "source": []
  }
 ],
 "metadata": {
  "kernelspec": {
   "display_name": "Python 3",
   "language": "python",
   "name": "python3"
  },
  "language_info": {
   "codemirror_mode": {
    "name": "ipython",
    "version": 3
   },
   "file_extension": ".py",
   "mimetype": "text/x-python",
   "name": "python",
   "nbconvert_exporter": "python",
   "pygments_lexer": "ipython3",
   "version": "3.8.8"
  }
 },
 "nbformat": 4,
 "nbformat_minor": 5
}
